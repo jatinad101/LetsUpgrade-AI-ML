{
 "cells": [
  {
   "cell_type": "code",
   "execution_count": 8,
   "metadata": {},
   "outputs": [],
   "source": [
    "import numpy as np"
   ]
  },
  {
   "cell_type": "markdown",
   "metadata": {},
   "source": [
    "QUESTION : 1 "
   ]
  },
  {
   "cell_type": "code",
   "execution_count": 24,
   "metadata": {},
   "outputs": [
    {
     "name": "stdout",
     "output_type": "stream",
     "text": [
      "[[[0.62774199 0.35607709 0.41602559]\n",
      "  [0.34665216 0.79560831 0.17666725]\n",
      "  [0.71383694 0.54018524 0.59412831]]\n",
      "\n",
      " [[0.33962128 0.82878435 0.65654101]\n",
      "  [0.74619734 0.0937322  0.83963601]\n",
      "  [0.76779698 0.82901176 0.92079927]]\n",
      "\n",
      " [[0.66906503 0.83386728 0.89010057]\n",
      "  [0.35154414 0.41105882 0.88508587]\n",
      "  [0.89478174 0.72624976 0.07117545]]]\n"
     ]
    }
   ],
   "source": [
    "a = np.random.random((3,3,3))\n",
    "print(a)"
   ]
  },
  {
   "cell_type": "markdown",
   "metadata": {},
   "source": [
    "QUESTION : 2"
   ]
  },
  {
   "cell_type": "code",
   "execution_count": 25,
   "metadata": {},
   "outputs": [
    {
     "name": "stdout",
     "output_type": "stream",
     "text": [
      "[[1 0 0 0 0]\n",
      " [0 2 0 0 0]\n",
      " [0 0 3 0 0]\n",
      " [0 0 0 4 0]\n",
      " [0 0 0 0 5]]\n"
     ]
    }
   ],
   "source": [
    "a1 = np.diag([1,2,3,4,5])\n",
    "print(a1)"
   ]
  },
  {
   "cell_type": "markdown",
   "metadata": {},
   "source": [
    "QUESTION : 3"
   ]
  },
  {
   "cell_type": "code",
   "execution_count": 35,
   "metadata": {},
   "outputs": [
    {
     "name": "stdout",
     "output_type": "stream",
     "text": [
      "[[0 1 0 1 0 1 0 1]\n",
      " [1 0 1 0 1 0 1 0]\n",
      " [0 1 0 1 0 1 0 1]\n",
      " [1 0 1 0 1 0 1 0]\n",
      " [0 1 0 1 0 1 0 1]\n",
      " [1 0 1 0 1 0 1 0]\n",
      " [0 1 0 1 0 1 0 1]\n",
      " [1 0 1 0 1 0 1 0]]\n"
     ]
    }
   ],
   "source": [
    "a2 = np.zeros((8,8),dtype = int)\n",
    "a2[1::2,::2] = 1\n",
    "a2[::2,1::2] = 1\n",
    "print(a2)"
   ]
  },
  {
   "cell_type": "markdown",
   "metadata": {},
   "source": [
    "QUESTION : 4"
   ]
  },
  {
   "cell_type": "code",
   "execution_count": 38,
   "metadata": {},
   "outputs": [
    {
     "name": "stdout",
     "output_type": "stream",
     "text": [
      "Original Matrix::\n",
      "[[0.07763395 0.75291914 0.76282415 0.81497797 0.02208226]\n",
      " [0.17279859 0.79623705 0.1904842  0.88739735 0.25555681]\n",
      " [0.14297889 0.95040755 0.82096377 0.44783662 0.93474247]\n",
      " [0.70284075 0.29996127 0.81420518 0.96062583 0.38831082]\n",
      " [0.1882044  0.64361445 0.1823625  0.43581276 0.9323693 ]]\n"
     ]
    }
   ],
   "source": [
    "from sklearn.preprocessing import normalize\n",
    "matrix = np.random.random((5,5))\n",
    "print('Original Matrix::')\n",
    "print(matrix)"
   ]
  },
  {
   "cell_type": "code",
   "execution_count": 48,
   "metadata": {},
   "outputs": [
    {
     "name": "stdout",
     "output_type": "stream",
     "text": [
      "Normalized Matrix::\n",
      "[[0.09525896 0.92385214 0.93600585 1.         0.02709553]\n",
      " [0.19472516 0.89727229 0.21465492 1.         0.28798465]\n",
      " [0.15043955 1.         0.86380181 0.47120482 0.98351751]\n",
      " [0.73164881 0.31225609 0.84757786 1.         0.40422692]\n",
      " [0.20185607 0.69029992 0.19559042 0.46742504 1.        ]]\n"
     ]
    }
   ],
   "source": [
    "normalized_matrix = normalize(matrix,axis=1,norm='max')\n",
    "print('Normalized Matrix::')\n",
    "print(normalized_matrix)"
   ]
  },
  {
   "cell_type": "markdown",
   "metadata": {},
   "source": [
    "QUESTION : 5"
   ]
  },
  {
   "cell_type": "code",
   "execution_count": 57,
   "metadata": {},
   "outputs": [
    {
     "name": "stdout",
     "output_type": "stream",
     "text": [
      "First Array [0, 1, 2, 3, 4, 5, 6, 7, 8, 9, 10, 11, 12, 13, 14, 15, 16, 17, 18, 19]\n",
      "Second Array [11, 13, 15, 17, 19, 21, 23]\n"
     ]
    }
   ],
   "source": [
    "arr1 = list(range(20))\n",
    "arr2 = list(range(11,25,2)) \n",
    "print('First Array',arr1)\n",
    "print('Second Array',arr2)"
   ]
  },
  {
   "cell_type": "code",
   "execution_count": 62,
   "metadata": {},
   "outputs": [
    {
     "name": "stdout",
     "output_type": "stream",
     "text": [
      "Common Values::\n",
      "11 13 15 17 19 "
     ]
    }
   ],
   "source": [
    "print('Common Values::')\n",
    "for i in arr1:\n",
    "    for j in arr2:\n",
    "        if i == j :\n",
    "            print(i,end=' ')\n",
    "        else:\n",
    "            continue"
   ]
  },
  {
   "cell_type": "markdown",
   "metadata": {},
   "source": [
    " QUESTION : 6"
   ]
  },
  {
   "cell_type": "code",
   "execution_count": 63,
   "metadata": {},
   "outputs": [
    {
     "name": "stdout",
     "output_type": "stream",
     "text": [
      "Yesterday:  2020-07-26\n",
      "Today:  2020-07-27\n",
      "Tomorrow:  2020-07-28\n"
     ]
    }
   ],
   "source": [
    "yesterday = np.datetime64('today', 'D') - np.timedelta64(1, 'D')\n",
    "print(\"Yesterday: \",yesterday)\n",
    "today     = np.datetime64('today', 'D')\n",
    "print(\"Today: \",today)\n",
    "tomorrow  = np.datetime64('today', 'D') + np.timedelta64(1, 'D')\n",
    "print(\"Tomorrow: \",tomorrow)"
   ]
  },
  {
   "cell_type": "markdown",
   "metadata": {},
   "source": [
    "QUESTION: 7"
   ]
  },
  {
   "cell_type": "code",
   "execution_count": 74,
   "metadata": {},
   "outputs": [
    {
     "name": "stdout",
     "output_type": "stream",
     "text": [
      "Enter the number of elements in arr1::5\n",
      "Enter number 1::5\n",
      "Enter number 2::4\n",
      "Enter number 3::9\n",
      "Enter number 4::8\n",
      "Enter number 5::7\n",
      "Enter the number of elemnts  in arr2::5\n",
      "Enter number 1::8\n",
      "Enter number 2::9\n",
      "Enter number 3::4\n",
      "Enter number 4::5\n",
      "Enter number 5::7\n",
      "First Array [5, 4, 9, 8, 7]\n",
      "Second Array [8, 9, 4, 5, 7]\n",
      "Arrays Equal!!!\n"
     ]
    }
   ],
   "source": [
    "r = int(input('Enter the number of elements in arr1::'))\n",
    "arr1 = list()\n",
    "arr2 = list() \n",
    "for i in range(r):\n",
    "    n1 = int(input(f'Enter number {i+1}::'))\n",
    "    arr1.append(n1)\n",
    "s = int(input('Enter the number of elemnts  in arr2::'))\n",
    "for j in range(s):\n",
    "    n2 = int(input(f'Enter number {j+1}::'))\n",
    "    arr2.append(n2)\n",
    "print('First Array',arr1)\n",
    "print('Second Array',arr2)\n",
    "arr1.sort();\n",
    "arr2.sort();\n",
    "\n",
    "if len(arr1)!=len(arr2):\n",
    "    print('Arrays Not Equal!!!')\n",
    "f = 1\n",
    "for i in range(0,r-1):\n",
    "        if arr1[i] != arr2[i] :\n",
    "            f = 0\n",
    "        else:\n",
    "            continue\n",
    "if f==0:\n",
    "    print('Arrays Not Equal!!!')\n",
    "else:\n",
    "    print('Arrays Equal!!!')"
   ]
  },
  {
   "cell_type": "markdown",
   "metadata": {},
   "source": [
    "QUESTION : 8"
   ]
  },
  {
   "cell_type": "code",
   "execution_count": 77,
   "metadata": {},
   "outputs": [
    {
     "name": "stdout",
     "output_type": "stream",
     "text": [
      "Original Array::\n",
      "[0.97628056 0.11605445 0.51994397 0.44775016 0.16984904 0.3267557\n",
      " 0.11709408 0.68108359 0.82781494 0.3824763 ]\n"
     ]
    }
   ],
   "source": [
    "b = np.random.random(10)\n",
    "print('Original Array::')\n",
    "print(b)"
   ]
  },
  {
   "cell_type": "code",
   "execution_count": 78,
   "metadata": {},
   "outputs": [
    {
     "name": "stdout",
     "output_type": "stream",
     "text": [
      "Updated Array::\n",
      "[0.         0.11605445 0.51994397 0.44775016 0.16984904 0.3267557\n",
      " 0.11709408 0.68108359 0.82781494 0.3824763 ]\n"
     ]
    }
   ],
   "source": [
    "b[b.argmax()] = 0\n",
    "print('Updated Array::')\n",
    "print(b)"
   ]
  },
  {
   "cell_type": "markdown",
   "metadata": {},
   "source": [
    "QUESTION : 9"
   ]
  },
  {
   "cell_type": "code",
   "execution_count": 80,
   "metadata": {},
   "outputs": [
    {
     "name": "stdout",
     "output_type": "stream",
     "text": [
      "[[0 0 0]\n",
      " [0 0 0]\n",
      " [0 0 0]]\n"
     ]
    }
   ],
   "source": [
    "print(np.zeros((3,3),dtype = int))"
   ]
  },
  {
   "cell_type": "markdown",
   "metadata": {},
   "source": [
    "QUESTION : 10"
   ]
  },
  {
   "cell_type": "code",
   "execution_count": 86,
   "metadata": {},
   "outputs": [],
   "source": [
    "np.mean?"
   ]
  },
  {
   "cell_type": "code",
   "execution_count": 85,
   "metadata": {},
   "outputs": [
    {
     "name": "stdout",
     "output_type": "stream",
     "text": [
      "Original Matrix::\n",
      "[[0.79717429 0.33142181 0.81083993]\n",
      " [0.73524    0.78482059 0.00406138]\n",
      " [0.59962152 0.77972909 0.20284992]\n",
      " [0.01449573 0.99341141 0.02885053]\n",
      " [0.87816802 0.75393431 0.26995968]]\n"
     ]
    }
   ],
   "source": [
    "print('Original Matrix::')\n",
    "m = np.random.rand(5,3)\n",
    "print(m)"
   ]
  },
  {
   "cell_type": "code",
   "execution_count": 87,
   "metadata": {},
   "outputs": [
    {
     "name": "stdout",
     "output_type": "stream",
     "text": [
      "Updated Matrix::\n",
      "[[ 0.15069561 -0.31505687  0.16436126]\n",
      " [ 0.22719934  0.27677993 -0.50397927]\n",
      " [ 0.07222134  0.25232891 -0.32455025]\n",
      " [-0.33109016  0.64782552 -0.31673536]\n",
      " [ 0.24414735  0.11991364 -0.36406099]]\n"
     ]
    }
   ],
   "source": [
    "n = m - m.mean(axis=1,keepdims = True)\n",
    "print('Updated Matrix::')\n",
    "print(n)"
   ]
  },
  {
   "cell_type": "markdown",
   "metadata": {},
   "source": [
    "QUESTION : 11"
   ]
  },
  {
   "cell_type": "code",
   "execution_count": 95,
   "metadata": {},
   "outputs": [
    {
     "name": "stdout",
     "output_type": "stream",
     "text": [
      "[3. 4. 3. 3. 4. 2. 3. 1. 4. 3.]\n"
     ]
    }
   ],
   "source": [
    "x = np.ones(10)\n",
    "i = np.random.randint(0,len(x),20)\n",
    "x += np.bincount(i, minlength=len(x))\n",
    "print(x)"
   ]
  },
  {
   "cell_type": "code",
   "execution_count": 89,
   "metadata": {},
   "outputs": [],
   "source": [
    "QUESTION :12"
   ]
  },
  {
   "cell_type": "code",
   "execution_count": 93,
   "metadata": {},
   "outputs": [
    {
     "name": "stdout",
     "output_type": "stream",
     "text": [
      "First Matrix::\n",
      "[[5 9 8]\n",
      " [8 7 3]\n",
      " [2 8 4]]\n",
      "Second Matrix::\n",
      "[[2 9 4]\n",
      " [6 0 8]\n",
      " [4 3 7]]\n",
      "Diagonal of dot product\n",
      "[ 96  81 100]\n"
     ]
    }
   ],
   "source": [
    "a = np.random.randint(0,10,(3,3))\n",
    "b = np.random.randint(0,10,(3, 3))\n",
    "print('First Matrix::')\n",
    "print(a)\n",
    "print('Second Matrix::')\n",
    "print(b)\n",
    "print('Diagonal of dot product')\n",
    "print(np.diag(np.dot(a,b)))"
   ]
  },
  {
   "cell_type": "markdown",
   "metadata": {},
   "source": [
    "QUESTION : 13"
   ]
  },
  {
   "cell_type": "code",
   "execution_count": 100,
   "metadata": {},
   "outputs": [
    {
     "name": "stdout",
     "output_type": "stream",
     "text": [
      "Original array:\n",
      "[5 2 9 0 8 4 2 7]\n",
      "Most frequent value in the above array:\n",
      "2\n"
     ]
    }
   ],
   "source": [
    "x = np.random.randint(0, 10,8)\n",
    "print(\"Original array:\")\n",
    "print(x)\n",
    "print(\"Most frequent value in the above array:\")\n",
    "print(np.bincount(x).argmax())"
   ]
  },
  {
   "cell_type": "markdown",
   "metadata": {},
   "source": [
    "QUESTION : 14"
   ]
  },
  {
   "cell_type": "code",
   "execution_count": 107,
   "metadata": {},
   "outputs": [
    {
     "name": "stdout",
     "output_type": "stream",
     "text": [
      "Original array:\n",
      "[0 1 2 3 4 5 6 7 8 9]\n",
      "[9]\n"
     ]
    }
   ],
   "source": [
    "y = np.arange(10)\n",
    "print(\"Original array:\")\n",
    "print(y)\n",
    "np.random.shuffle(y)\n",
    "n = 1\n",
    "print (y[np.argsort(y)[-n:]])"
   ]
  },
  {
   "cell_type": "markdown",
   "metadata": {},
   "source": [
    "QUESTION : 15"
   ]
  },
  {
   "cell_type": "code",
   "execution_count": 108,
   "metadata": {},
   "outputs": [
    {
     "name": "stdout",
     "output_type": "stream",
     "text": [
      "(1, 'Red', 10)\n",
      "(2, 'Green', 15)\n",
      "(3, 'Blue', 20)\n"
     ]
    }
   ],
   "source": [
    "x1 = np.array([1,2,3,4])\n",
    "x2 = np.array(['Red','Green','Blue','Orange'])\n",
    "x3 = np.array([10,15,20,25])\n",
    "result= np.core.records.fromarrays([x1, x2, x3],names='a,b,c')\n",
    "print(result[0])\n",
    "print(result[1])\n",
    "print(result[2])"
   ]
  },
  {
   "cell_type": "code",
   "execution_count": null,
   "metadata": {},
   "outputs": [],
   "source": []
  }
 ],
 "metadata": {
  "kernelspec": {
   "display_name": "Python 3",
   "language": "python",
   "name": "python3"
  },
  "language_info": {
   "codemirror_mode": {
    "name": "ipython",
    "version": 3
   },
   "file_extension": ".py",
   "mimetype": "text/x-python",
   "name": "python",
   "nbconvert_exporter": "python",
   "pygments_lexer": "ipython3",
   "version": "3.7.6"
  },
  "toc": {
   "base_numbering": 1,
   "nav_menu": {},
   "number_sections": true,
   "sideBar": true,
   "skip_h1_title": false,
   "title_cell": "Table of Contents",
   "title_sidebar": "Contents",
   "toc_cell": false,
   "toc_position": {},
   "toc_section_display": true,
   "toc_window_display": false
  }
 },
 "nbformat": 4,
 "nbformat_minor": 4
}

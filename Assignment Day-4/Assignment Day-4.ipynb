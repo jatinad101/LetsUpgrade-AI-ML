{
 "cells": [
  {
   "cell_type": "markdown",
   "metadata": {},
   "source": [
    "QUESTION 1:"
   ]
  },
  {
   "cell_type": "code",
   "execution_count": 7,
   "metadata": {},
   "outputs": [
    {
     "name": "stdout",
     "output_type": "stream",
     "text": [
      "(7+7j)\n",
      "(1+3j)\n",
      "(2+23j)\n",
      "(1.6923076923076923+0.5384615384615385j)\n"
     ]
    }
   ],
   "source": [
    "a = complex(4,5)\n",
    "b = complex(3,2)\n",
    "add = a+b\n",
    "sub = a-b\n",
    "mul = a*b\n",
    "div = a/b\n",
    "\n",
    "print(add)\n",
    "print(sub)\n",
    "print(mul)\n",
    "print(div)\n"
   ]
  },
  {
   "cell_type": "markdown",
   "metadata": {},
   "source": [
    "QUESTION 2:\n",
    "-> Range function returns sequence of numbers.\n",
    "-> It is used to iterate over a range of numbers starting from 0."
   ]
  },
  {
   "cell_type": "code",
   "execution_count": 11,
   "metadata": {},
   "outputs": [
    {
     "name": "stdout",
     "output_type": "stream",
     "text": [
      "4950\n"
     ]
    }
   ],
   "source": [
    "sum = 0\n",
    "for i in range(100):\n",
    "    sum += i\n",
    "print(sum)"
   ]
  },
  {
   "cell_type": "markdown",
   "metadata": {},
   "source": [
    "QUESTION 3:"
   ]
  },
  {
   "cell_type": "code",
   "execution_count": 13,
   "metadata": {},
   "outputs": [
    {
     "name": "stdout",
     "output_type": "stream",
     "text": [
      "101\n",
      "75\n",
      "Multiplication:: 7575\n"
     ]
    }
   ],
   "source": [
    "x = int(input())\n",
    "y = int(input())\n",
    "z = x-y\n",
    "if z>25:\n",
    "    print('Multiplication::',x*y)\n",
    "else:\n",
    "    print('Division::',x/y)"
   ]
  },
  {
   "cell_type": "markdown",
   "metadata": {},
   "source": [
    "QUESTION 4:"
   ]
  },
  {
   "cell_type": "code",
   "execution_count": 23,
   "metadata": {
    "scrolled": true
   },
   "outputs": [
    {
     "name": "stdout",
     "output_type": "stream",
     "text": [
      "Divisible by 2-> -2\n",
      "NotDivisible  2-> 1\n",
      "Divisible by 2-> 2\n",
      "NotDivisible  2-> 3\n",
      "Divisible by 2-> 14\n",
      "NotDivisible  2-> 5\n",
      "Divisible by 2-> 34\n",
      "NotDivisible  2-> 7\n",
      "Divisible by 2-> 62\n",
      "NotDivisible  2-> 9\n",
      "Divisible by 2-> 98\n"
     ]
    }
   ],
   "source": [
    "lis = list(range(11))\n",
    "for i in lis:\n",
    "    if i%2 ==0:\n",
    "        print('Divisible by 2->',i**2-2)\n",
    "    else:    \n",
    "        print('NotDivisible  2->',i)\n",
    "\n",
    "    "
   ]
  },
  {
   "cell_type": "markdown",
   "metadata": {},
   "source": [
    "QUESTION 5:"
   ]
  },
  {
   "cell_type": "code",
   "execution_count": 26,
   "metadata": {},
   "outputs": [
    {
     "name": "stdout",
     "output_type": "stream",
     "text": [
      "Not greater than 7\n",
      "Not greater than 7\n",
      "Not greater than 7\n",
      "Not greater than 7\n",
      "Not greater than 7\n",
      "15\n",
      "16\n",
      "17\n",
      "18\n",
      "19\n"
     ]
    }
   ],
   "source": [
    "lis = list(range(10,20))\n",
    "for i in lis:\n",
    "    x = i/2\n",
    "    if x>7:\n",
    "        print(i)\n",
    "    else:\n",
    "        print('Not greater than 7')\n",
    "    "
   ]
  },
  {
   "cell_type": "code",
   "execution_count": null,
   "metadata": {},
   "outputs": [],
   "source": []
  }
 ],
 "metadata": {
  "kernelspec": {
   "display_name": "Python 3",
   "language": "python",
   "name": "python3"
  },
  "language_info": {
   "codemirror_mode": {
    "name": "ipython",
    "version": 3
   },
   "file_extension": ".py",
   "mimetype": "text/x-python",
   "name": "python",
   "nbconvert_exporter": "python",
   "pygments_lexer": "ipython3",
   "version": "3.6.9"
  },
  "toc": {
   "base_numbering": 1,
   "nav_menu": {},
   "number_sections": true,
   "sideBar": true,
   "skip_h1_title": false,
   "title_cell": "Table of Contents",
   "title_sidebar": "Contents",
   "toc_cell": false,
   "toc_position": {},
   "toc_section_display": true,
   "toc_window_display": false
  }
 },
 "nbformat": 4,
 "nbformat_minor": 4
}

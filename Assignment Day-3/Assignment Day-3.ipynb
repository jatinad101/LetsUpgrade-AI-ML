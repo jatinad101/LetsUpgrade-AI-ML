{
 "cells": [
  {
   "cell_type": "markdown",
   "metadata": {},
   "source": [
    " \n",
    "QUESTION 1:"
   ]
  },
  {
   "cell_type": "code",
   "execution_count": 5,
   "metadata": {},
   "outputs": [
    {
     "data": {
      "text/plain": [
       "(2+4j)"
      ]
     },
     "execution_count": 5,
     "metadata": {},
     "output_type": "execute_result"
    }
   ],
   "source": [
    "c1 = 5 + 6j\n",
    "c2 = 3 + 2j\n",
    "com = c1 - c2\n",
    "com"
   ]
  },
  {
   "cell_type": "markdown",
   "metadata": {},
   "source": [
    "QUESTION 2:"
   ]
  },
  {
   "cell_type": "code",
   "execution_count": 9,
   "metadata": {},
   "outputs": [
    {
     "name": "stdout",
     "output_type": "stream",
     "text": [
      "Enter ur number::18\n"
     ]
    },
    {
     "data": {
      "text/plain": [
       "2.0597671439071177"
      ]
     },
     "execution_count": 9,
     "metadata": {},
     "output_type": "execute_result"
    }
   ],
   "source": [
    "x = float(input('Enter ur number::'))\n",
    "r = x**(1/4)\n",
    "r"
   ]
  },
  {
   "cell_type": "markdown",
   "metadata": {},
   "source": [
    "QUESTION 3:"
   ]
  },
  {
   "cell_type": "code",
   "execution_count": 15,
   "metadata": {},
   "outputs": [
    {
     "name": "stdout",
     "output_type": "stream",
     "text": [
      "a::5\n",
      "b::4\n",
      "a-> 4\n",
      "b-> 5\n"
     ]
    }
   ],
   "source": [
    "a = int(input('a::'))\n",
    "b = int(input('b::'))\n",
    "c = a\n",
    "a = b\n",
    "b = c\n",
    "print('a->',a)\n",
    "print('b->',b)"
   ]
  },
  {
   "cell_type": "markdown",
   "metadata": {},
   "source": [
    "QUESTION 4:"
   ]
  },
  {
   "cell_type": "code",
   "execution_count": 16,
   "metadata": {},
   "outputs": [
    {
     "name": "stdout",
     "output_type": "stream",
     "text": [
      "x ::2\n",
      "y ::3\n",
      "x-> 3\n",
      "y-> 2\n"
     ]
    }
   ],
   "source": [
    "x = int(input('x ::'))\n",
    "y = int(input('y ::'))\n",
    "x,y = y,x\n",
    "print('x->',x)\n",
    "print('y->',y)"
   ]
  },
  {
   "cell_type": "markdown",
   "metadata": {},
   "source": [
    "QUESTION 5:"
   ]
  },
  {
   "cell_type": "code",
   "execution_count": 21,
   "metadata": {},
   "outputs": [
    {
     "name": "stdout",
     "output_type": "stream",
     "text": [
      "Enter temperature in  fahrenheit::98\n",
      "36.666666666666664 Celsius\n",
      "309.81666666666666 Kelvin\n"
     ]
    }
   ],
   "source": [
    "f = float(input('Enter temperature in  fahrenheit::'))\n",
    "c = (f-32)*5.0/9\n",
    "k = c + 273.15\n",
    "print(str(c)+' Celsius')\n",
    "print(str(k)+' Kelvin')"
   ]
  },
  {
   "cell_type": "markdown",
   "metadata": {},
   "source": [
    "QUESTION 6:"
   ]
  },
  {
   "cell_type": "code",
   "execution_count": 22,
   "metadata": {},
   "outputs": [
    {
     "name": "stdout",
     "output_type": "stream",
     "text": [
      "<class 'str'>\n",
      "<class 'int'>\n",
      "<class 'float'>\n",
      "<class 'complex'>\n",
      "<class 'list'>\n",
      "<class 'tuple'>\n",
      "<class 'dict'>\n",
      "<class 'bool'>\n"
     ]
    }
   ],
   "source": [
    "a = 'Jatin'\n",
    "b = 123\n",
    "c = 57.0\n",
    "d = 5 + 7j\n",
    "e =[4,5,6]\n",
    "f =(1,2,3)\n",
    "g = {\"a\":1,\"b\":2,\"c\":3}\n",
    "h = True\n",
    "print(type(a))\n",
    "print(type(b))\n",
    "print(type(c))\n",
    "print(type(d))\n",
    "print(type(e))\n",
    "print(type(f))\n",
    "print(type(g))\n",
    "print(type(h))\n"
   ]
  },
  {
   "cell_type": "markdown",
   "metadata": {},
   "source": [
    "QUESTION 7:\n",
    "-> Create a profile in Github or sign in using existing account\n",
    "-> Go to Repositories\n",
    "-> Create a new one\n",
    "-> For eg LetsUpgrade-AI-ML\n",
    "-> Make it public\n",
    "-> Upload ur file and commit changes"
   ]
  },
  {
   "cell_type": "code",
   "execution_count": null,
   "metadata": {},
   "outputs": [],
   "source": []
  }
 ],
 "metadata": {
  "kernelspec": {
   "display_name": "Python 3",
   "language": "python",
   "name": "python3"
  },
  "language_info": {
   "codemirror_mode": {
    "name": "ipython",
    "version": 3
   },
   "file_extension": ".py",
   "mimetype": "text/x-python",
   "name": "python",
   "nbconvert_exporter": "python",
   "pygments_lexer": "ipython3",
   "version": "3.6.9"
  }
 },
 "nbformat": 4,
 "nbformat_minor": 4
}
